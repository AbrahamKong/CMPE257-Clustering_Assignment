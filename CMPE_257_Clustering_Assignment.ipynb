{
  "nbformat": 4,
  "nbformat_minor": 0,
  "metadata": {
    "colab": {
      "name": "CMPE 257 Clustering Assignment",
      "provenance": [],
      "authorship_tag": "ABX9TyPb6pAaMUPDB8gBBcqwPGsQ",
      "include_colab_link": true
    },
    "kernelspec": {
      "name": "python3",
      "display_name": "Python 3"
    },
    "language_info": {
      "name": "python"
    }
  },
  "cells": [
    {
      "cell_type": "markdown",
      "metadata": {
        "id": "view-in-github",
        "colab_type": "text"
      },
      "source": [
        "<a href=\"https://colab.research.google.com/github/AbrahamKong/CMPE257-Clustering_Assignment/blob/main/CMPE_257_Clustering_Assignment.ipynb\" target=\"_parent\"><img src=\"https://colab.research.google.com/assets/colab-badge.svg\" alt=\"Open In Colab\"/></a>"
      ]
    },
    {
      "cell_type": "code",
      "execution_count": null,
      "metadata": {
        "id": "Bj8-01lobaB-"
      },
      "outputs": [],
      "source": [
        "# https://www.kaggle.com/olistbr/brazilian-ecommerce?select=olist_geolocation_dataset.csv"
      ]
    },
    {
      "cell_type": "code",
      "source": [
        "%matplotlib inline\n",
        "import matplotlib.pyplot as plt\n",
        "import numpy as np"
      ],
      "metadata": {
        "id": "WsuWW5QI0TuI"
      },
      "execution_count": null,
      "outputs": []
    }
  ]
}